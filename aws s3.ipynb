{
 "cells": [
  {
   "cell_type": "code",
   "execution_count": 20,
   "id": "998a847e",
   "metadata": {},
   "outputs": [],
   "source": [
    "import boto3"
   ]
  },
  {
   "cell_type": "code",
   "execution_count": 21,
   "id": "12c91fc9",
   "metadata": {},
   "outputs": [],
   "source": [
    "s3=boto3.resource('s3',\n",
    "                  aws_access_key_id=\"AKIAZMF************\",\n",
    "                  aws_secret_access_key=\"PF8mVLJ7H871SHIBRwb************************\",\n",
    "                  region_name=\"ap-south-1\"\n",
    "                 )"
   ]
  },
  {
   "cell_type": "code",
   "execution_count": 22,
   "id": "cdbd0bda",
   "metadata": {},
   "outputs": [],
   "source": [
    "def AllBucketName():\n",
    "    print(\"All s3 bucket name: \")\n",
    "    for bucket in s3.buckets.all():\n",
    "        print(f\"{bucket.name}\")    "
   ]
  },
  {
   "cell_type": "code",
   "execution_count": 23,
   "id": "78dd4f72",
   "metadata": {},
   "outputs": [],
   "source": [
    "def createBucket():\n",
    "    bucket=input('Enter the uniqure bucket name')\n",
    "    s3.create_bucket(\n",
    "        Bucket=bucket,\n",
    "        CreateBucketConfiguration={\n",
    "            'LocationConstraint':'ap-south-1'\n",
    "        }\n",
    "    )"
   ]
  },
  {
   "cell_type": "code",
   "execution_count": 24,
   "id": "afc6bc07",
   "metadata": {},
   "outputs": [],
   "source": [
    "def downloadFile():\n",
    "    bucket_name = 'newawsaccount'\n",
    "    s3_object_key= 'mydoc.txt'\n",
    "    local_file_path='mydoclocal.txt'\n",
    "    s3.Bucket(bucket_name).download_file(s3_object_key, local_file_path)\n",
    "    print(f'File {s3_object_key} downloaded from s3 bucket {bucket_name} to {local_file_path}')"
   ]
  },
  {
   "cell_type": "code",
   "execution_count": 25,
   "id": "a75cb540",
   "metadata": {},
   "outputs": [],
   "source": [
    "def putFile():\n",
    "    bucket_name = 'newawsaccount'\n",
    "    s3_object_key= 'mydocs3.txt'\n",
    "    local_file_path='mydoc.txt'\n",
    "    s3.Bucket(bucket_name).upload_file(local_file_path, s3_object_key) "
   ]
  },
  {
   "cell_type": "code",
   "execution_count": 26,
   "id": "5c58c4bc",
   "metadata": {
    "scrolled": false
   },
   "outputs": [
    {
     "name": "stdout",
     "output_type": "stream",
     "text": [
      "Enter the uniqure bucket namemyfirstbucketonawsnew\n",
      "File mydoc.txt downloaded from s3 bucket newawsaccount to mydoclocal.txt\n",
      "All s3 bucket name: \n",
      "myfirstbucketonawsnew\n",
      "mys3bucketfordocuments\n",
      "mysecondbucketonaws\n",
      "newawsaccount\n"
     ]
    }
   ],
   "source": [
    "if __name__ == '__main__' :\n",
    "\n",
    "    createBucket()\n",
    "    putFile()\n",
    "    downloadFile()\n",
    "    AllBucketName()"
   ]
  },
  {
   "cell_type": "code",
   "execution_count": null,
   "id": "1a76a14e",
   "metadata": {},
   "outputs": [],
   "source": []
  },
  {
   "cell_type": "code",
   "execution_count": null,
   "id": "10b52968",
   "metadata": {},
   "outputs": [],
   "source": []
  },
  {
   "cell_type": "code",
   "execution_count": null,
   "id": "70b6d7fc",
   "metadata": {},
   "outputs": [],
   "source": []
  },
  {
   "cell_type": "code",
   "execution_count": null,
   "id": "650f1ed8",
   "metadata": {},
   "outputs": [],
   "source": []
  },
  {
   "cell_type": "code",
   "execution_count": null,
   "id": "b7025463",
   "metadata": {},
   "outputs": [],
   "source": []
  },
  {
   "cell_type": "code",
   "execution_count": null,
   "id": "d9218ca0",
   "metadata": {},
   "outputs": [],
   "source": []
  },
  {
   "cell_type": "code",
   "execution_count": null,
   "id": "764eb1d1",
   "metadata": {},
   "outputs": [],
   "source": []
  },
  {
   "cell_type": "code",
   "execution_count": null,
   "id": "43357b72",
   "metadata": {},
   "outputs": [],
   "source": []
  },
  {
   "cell_type": "code",
   "execution_count": null,
   "id": "76244f55",
   "metadata": {},
   "outputs": [],
   "source": []
  },
  {
   "cell_type": "code",
   "execution_count": null,
   "id": "33c8fbdc",
   "metadata": {},
   "outputs": [],
   "source": []
  },
  {
   "cell_type": "markdown",
   "id": "f7a41418",
   "metadata": {},
   "source": [
    "    "
   ]
  },
  {
   "cell_type": "code",
   "execution_count": null,
   "id": "23a67537",
   "metadata": {},
   "outputs": [],
   "source": []
  },
  {
   "cell_type": "code",
   "execution_count": null,
   "id": "07221f89",
   "metadata": {},
   "outputs": [],
   "source": []
  },
  {
   "cell_type": "code",
   "execution_count": null,
   "id": "18c72610",
   "metadata": {},
   "outputs": [],
   "source": []
  },
  {
   "cell_type": "code",
   "execution_count": null,
   "id": "a25832a5",
   "metadata": {},
   "outputs": [],
   "source": []
  },
  {
   "cell_type": "markdown",
   "id": "d36daab0",
   "metadata": {},
   "source": [
    "### "
   ]
  },
  {
   "cell_type": "code",
   "execution_count": null,
   "id": "02153ace",
   "metadata": {},
   "outputs": [],
   "source": []
  },
  {
   "cell_type": "code",
   "execution_count": null,
   "id": "5e32c062",
   "metadata": {},
   "outputs": [],
   "source": []
  },
  {
   "cell_type": "code",
   "execution_count": null,
   "id": "886c79bc",
   "metadata": {},
   "outputs": [],
   "source": []
  }
 ],
 "metadata": {
  "kernelspec": {
   "display_name": "Python 3 (ipykernel)",
   "language": "python",
   "name": "python3"
  },
  "language_info": {
   "codemirror_mode": {
    "name": "ipython",
    "version": 3
   },
   "file_extension": ".py",
   "mimetype": "text/x-python",
   "name": "python",
   "nbconvert_exporter": "python",
   "pygments_lexer": "ipython3",
   "version": "3.10.9"
  }
 },
 "nbformat": 4,
 "nbformat_minor": 5
}
